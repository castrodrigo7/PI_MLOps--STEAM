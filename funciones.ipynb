{
 "cells": [
  {
   "cell_type": "code",
   "execution_count": 3,
   "metadata": {},
   "outputs": [],
   "source": [
    "import pandas as pd\n",
    "import gzip"
   ]
  },
  {
   "cell_type": "code",
   "execution_count": 5,
   "metadata": {},
   "outputs": [],
   "source": [
    "df = pd.read_csv('datasets/dfgames.csv')\n",
    "df_reviews = pd.read_csv('datasets/user_reviews.csv')\n",
    "with gzip.open('datasets/users_item.csv.gz', 'rt', encoding='utf-8') as f:\n",
    "    # Lee el archivo CSV directamente desde el archivo comprimido\n",
    "    df_items = pd.read_csv(f)\n"
   ]
  },
  {
   "cell_type": "code",
   "execution_count": 5,
   "metadata": {},
   "outputs": [],
   "source": [
    "def developer_reviews_analysis(developer: str):\n",
    "    # Filtrar reseñas por desarrollador\n",
    "    developer_reviews = df[df['developer'] == developer]\n",
    "\n",
    "    # Verificar si el desarrollador tiene reseñas\n",
    "    if developer_reviews.empty:\n",
    "        return {developer: {\"Negative\": 0, \"Positive\": 0}}\n",
    "\n",
    "    merged_data = pd.merge(df_reviews, developer_reviews, left_on='item_id', right_on='id')\n",
    "\n",
    "    # Contar la cantidad de reseñas positivas y negativas\n",
    "    sentiment_counts = merged_data['sentiment_analysis'].value_counts()\n",
    "\n",
    "    # Crear el diccionario de resultados\n",
    "    result = {developer: {\"Negative\": sentiment_counts.get(1, 0), \"Positive\": sentiment_counts.get(2, 0)}}\n",
    "    return result"
   ]
  },
  {
   "cell_type": "code",
   "execution_count": 8,
   "metadata": {},
   "outputs": [
    {
     "data": {
      "text/plain": [
       "{'Smartly Dressed Games': [{'Positive': 404}, {'Negative': 447}]}"
      ]
     },
     "execution_count": 8,
     "metadata": {},
     "output_type": "execute_result"
    }
   ],
   "source": [
    "developer_reviews_analysis('Smartly Dressed Games')"
   ]
  }
 ],
 "metadata": {
  "kernelspec": {
   "display_name": "Python 3",
   "language": "python",
   "name": "python3"
  },
  "language_info": {
   "codemirror_mode": {
    "name": "ipython",
    "version": 3
   },
   "file_extension": ".py",
   "mimetype": "text/x-python",
   "name": "python",
   "nbconvert_exporter": "python",
   "pygments_lexer": "ipython3",
   "version": "3.12.0"
  }
 },
 "nbformat": 4,
 "nbformat_minor": 2
}
